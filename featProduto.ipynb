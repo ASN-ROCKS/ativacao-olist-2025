{
 "cells": [
  {
   "cell_type": "code",
   "execution_count": 0,
   "metadata": {
    "application/vnd.databricks.v1+cell": {
     "cellMetadata": {},
     "inputWidgets": {},
     "nuid": "97a54c5d-5e23-43c9-bd45-2cfe23c5435e",
     "showTitle": false,
     "tableResultSettingsMap": {},
     "title": ""
    }
   },
   "outputs": [],
   "source": [
    "\n",
    "WITH tb_base AS (\n",
    "  SELECT distinct v.idVendedor, ip.idPedido, p.dtPedido, ap.idAvaliacao\n",
    "  FROM silver.olist.vendedor as v\n",
    "  LEFT JOIN silver.olist.item_pedido as ip ON v.idVendedor = ip.idVendedor\n",
    "  LEFT JOIN silver.olist.pedido as p ON ip.idPedido = p.idPedido\n",
    "  LEFT JOIN silver.olist.avaliacao_pedido as ap ON ip.idPedido = ap.idPedido\n",
    "),\n",
    "-- Criar a granularidade: Dtref (ANO/MÊS) + id.vendedor\n",
    "tb_dtref_vendedor AS (\n",
    "  SELECT DATE_TRUNC('MONTH', dtPedido) AS dtref, idVendedor, idPedido, idAvaliacao\n",
    "  FROM tb_base\n",
    "),\n",
    "-- Incluir os atributos da feature store na tabela\n",
    "tb_feat_produto AS (\n",
    "\n",
    ")\n",
    "\n",
    "SELECT *\n",
    "FROM tb_feat_avaliacao"
   ]
  }
 ],
 "metadata": {
  "application/vnd.databricks.v1+notebook": {
   "computePreferences": null,
   "dashboards": [],
   "environmentMetadata": {
    "base_environment": "",
    "environment_version": "2"
   },
   "language": "sql",
   "notebookMetadata": {
    "pythonIndentUnit": 4
   },
   "notebookName": "featProduto",
   "widgets": {}
  },
  "language_info": {
   "name": "sql"
  }
 },
 "nbformat": 4,
 "nbformat_minor": 0
}
