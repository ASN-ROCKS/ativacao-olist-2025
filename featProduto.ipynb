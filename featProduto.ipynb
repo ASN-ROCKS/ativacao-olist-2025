{
 "cells": [
  {
   "cell_type": "code",
   "execution_count": 0,
   "metadata": {
    "application/vnd.databricks.v1+cell": {
     "cellMetadata": {
      "byteLimit": 2048000,
      "rowLimit": 10000
     },
     "inputWidgets": {},
     "nuid": "97a54c5d-5e23-43c9-bd45-2cfe23c5435e",
     "showTitle": false,
     "tableResultSettingsMap": {},
     "title": ""
    }
   },
   "outputs": [],
   "source": [
    "\n",
    "-- Lista de features para incluir\n",
    "-- QtdProdutos (ID) únicos (tamanho portfólio)\n",
    "-- Número de categorias distintas vendidas pelo seller\n",
    "-- CategoriaPrincipal (mais vendida)\n",
    "-- CategoriaPrincipal (maior receita)\n",
    "-- Share receita nas top 15 categorias\n",
    "-- Share qtde nas top 15 categorias\n",
    "-- Média do tamanho do nome do produto\n",
    "-- Média do tamanho do nome da descrição\n",
    "-- Média da quantidade de fotos\n",
    "-- taxa de produtos com fotos (%)\n",
    "-- Indicador de se existe descrição atrelada ao anúncio (%)\n",
    "\n",
    "WITH tb_base AS (\n",
    "  SELECT distinct v.idVendedor, ip.idPedido, ip.idProduto, pe.dtPedido\n",
    "  FROM silver.olist.vendedor AS v\n",
    "  LEFT JOIN silver.olist.item_pedido AS ip ON v.idVendedor = ip.idVendedor\n",
    "  LEFT JOIN silver.olist.pedido AS pe ON ip.idPedido = pe.idPedido\n",
    "),\n",
    "-- Criar a granularidade: Dtref (ANO/MÊS) + id.vendedor\n",
    "tb_dtref_vendedor AS (\n",
    "  SELECT DATE_TRUNC('MONTH', dtPedido) AS dtref, idVendedor, idPedido, idProduto\n",
    "  FROM tb_base\n",
    "),\n",
    "-- Incluir os atributos da feature store na tabela\n",
    "tb_feat_produto AS (\n",
    "  SELECT dtref, idVendedor\n",
    "  FROM tb_dtref_vendedor AS dv\n",
    "  LEFT JOIN silver.olist.produto AS po ON dv.idProduto = po.idProduto\n",
    "  GROUP BY dtref, idVendedor\n",
    ")\n",
    "\n",
    "SELECT *\n",
    "FROM tb_feat_produto"
   ]
  }
 ],
 "metadata": {
  "application/vnd.databricks.v1+notebook": {
   "computePreferences": null,
   "dashboards": [],
   "environmentMetadata": {
    "base_environment": "",
    "environment_version": "2"
   },
   "language": "sql",
   "notebookMetadata": {
    "pythonIndentUnit": 4
   },
   "notebookName": "featProduto",
   "widgets": {}
  },
  "language_info": {
   "name": "sql"
  }
 },
 "nbformat": 4,
 "nbformat_minor": 0
}
