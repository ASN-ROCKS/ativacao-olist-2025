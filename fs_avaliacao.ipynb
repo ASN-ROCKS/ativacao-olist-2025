{
 "cells": [
  {
   "cell_type": "code",
   "execution_count": 0,
   "metadata": {
    "application/vnd.databricks.v1+cell": {
     "cellMetadata": {
      "byteLimit": 2048000,
      "rowLimit": 10000
     },
     "inputWidgets": {},
     "nuid": "c2bbb00e-6fce-4767-855d-b4736706be72",
     "showTitle": false,
     "tableResultSettingsMap": {},
     "title": ""
    }
   },
   "outputs": [],
   "source": [
    "WITH tb_base AS (\n",
    "  SELECT v.idVendedor,\n",
    "         ip.idPedido,\n",
    "         p.dtPedido,\n",
    "         ap.idAvaliacao,\n",
    "         ap.vlNota\n",
    "\n",
    "  FROM silver.olist.vendedor as v\n",
    "  LEFT JOIN silver.olist.item_pedido as ip ON v.idVendedor = ip.idVendedor\n",
    "  LEFT JOIN silver.olist.pedido as p ON ip.idPedido = p.idPedido\n",
    "  LEFT JOIN silver.olist.avaliacao_pedido as ap ON ip.idPedido = ap.idPedido\n",
    "  WHERE p.dtPedido < '2017-06-01'\n",
    "\n",
    "),\n",
    "\n",
    "-- Incluir os atributos da feature store na tabela\n",
    "tb_feat_avaliacao AS (\n",
    "  SELECT idVendedor, \n",
    "         AVG(vlNota) AS mediaAvaliacao,\n",
    "         COUNT(vlNota) AS qtdReviewsAteHoje,\n",
    "         AVG(CASE WHEN  dtv.dtPedido > '2017-06-01' - INTERVAL 28 DAY THEN vlNota END) AS mediaAvaliacao28d,\n",
    "         COUNT(CASE WHEN  dtv.dtPedido > '2017-06-01' - INTERVAL 28 DAY THEN vlNota END) AS qtdReviewsAteHoje28d,\n",
    "         (COUNT(CASE WHEN dtv.idAvaliacao IS NULL THEN 1 END) * 1.0 / COUNT(dtv.idPedido)) AS pctPedidosNaoAvaliado\n",
    "  FROM tb_base AS dtv\n",
    "  GROUP BY idVendedor\n",
    ")\n",
    "\n",
    "SELECT \n",
    "      '2017-06-01' AS dtRef,\n",
    "      *\n",
    "FROM tb_feat_avaliacao"
   ]
  },
  {
   "cell_type": "code",
   "execution_count": 0,
   "metadata": {
    "application/vnd.databricks.v1+cell": {
     "cellMetadata": {
      "byteLimit": 2048000,
      "rowLimit": 10000
     },
     "inputWidgets": {},
     "nuid": "850e17b7-bf5c-40ae-a423-0f7819f79a35",
     "showTitle": false,
     "tableResultSettingsMap": {},
     "title": ""
    }
   },
   "outputs": [],
   "source": [
    "SELECT date(dtPedido), count(*) FROM silver.olist.pedido\n",
    "group by ALL\n",
    "order by 1\n"
   ]
  }
 ],
 "metadata": {
  "application/vnd.databricks.v1+notebook": {
   "computePreferences": null,
   "dashboards": [],
   "environmentMetadata": {
    "base_environment": "",
    "environment_version": "2"
   },
   "language": "sql",
   "notebookMetadata": {
    "pythonIndentUnit": 4
   },
   "notebookName": "fs_avaliacao",
   "widgets": {}
  },
  "language_info": {
   "name": "sql"
  }
 },
 "nbformat": 4,
 "nbformat_minor": 0
}
