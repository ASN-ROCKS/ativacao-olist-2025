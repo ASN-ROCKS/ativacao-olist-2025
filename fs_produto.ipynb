{
 "cells": [
  {
   "cell_type": "code",
   "execution_count": 0,
   "metadata": {
    "application/vnd.databricks.v1+cell": {
     "cellMetadata": {
      "byteLimit": 2048000,
      "rowLimit": 10000
     },
     "inputWidgets": {},
     "nuid": "97a54c5d-5e23-43c9-bd45-2cfe23c5435e",
     "showTitle": false,
     "tableResultSettingsMap": {},
     "title": ""
    }
   },
   "outputs": [],
   "source": [
    "\n",
    "-- Lista de features para incluir\n",
    "-- [X] QtdProdutos (ID) únicos (tamanho portfólio)\n",
    "-- [X] Número de categorias distintas vendidas pelo seller\n",
    "-- [X] Média da quantidade de fotos\n",
    "-- [X] taxa de produtos com fotos (%)\n",
    "-- [X] Peso médio dos produtos vendidos\n",
    "-- [X] Média do tamanho do nome do produto\n",
    "-- [X] Média do tamanho do nome da descrição\n",
    "-- [X] Indicador de se existe descrição atrelada ao anúncio (%)\n",
    "-- [X] Cubagem média dos produtos vendidos (H x L x C)\n",
    "-- [ ] Produto mais vendido\n",
    "-- [ ] Produto mais rentável\n",
    "-- [ ] CategoriaPrincipal (mais vendida)\n",
    "-- [ ] CategoriaPrincipal (maior receita)\n",
    "-- [ ] Share receita nas top 15 categorias\n",
    "-- [ ] Share qtde nas top 15 categorias\n",
    "\n",
    "\n",
    "-- Criar a tabela base com todos os atributos necessários\n",
    "WITH tb_base AS (\n",
    "  SELECT v.idVendedor, \n",
    "         ip.idPedido, \n",
    "         p.dtPedido,\n",
    "         ip.idProduto,\n",
    "         ip.vlPreco AS precoProduto,\n",
    "         ip.idPedidoItem,\n",
    "         po.descCategoria,\n",
    "         po.nrTamanhoNome,\n",
    "         po.nrTamanhoDescricao,\n",
    "         po.nrFotos,\n",
    "         po.vlPesoGramas,\n",
    "         po.vlComprimentoCm,\n",
    "         po.vlAlturaCm,\n",
    "         po.vlLarguraCm\n",
    "\n",
    "  FROM silver.olist.vendedor AS v\n",
    "  LEFT JOIN silver.olist.item_pedido AS ip ON v.idVendedor = ip.idVendedor\n",
    "  LEFT JOIN silver.olist.pedido AS p ON ip.idPedido = p.idPedido\n",
    "  LEFT JOIN silver.olist.produto AS po ON ip.idProduto = po.idProduto\n",
    "  WHERE p.dtPedido < '2017-06-01'\n",
    "),\n",
    "\n",
    "-- Incluir os atributos da feature store na tabela\n",
    "tb_feat_produto AS (\n",
    "  SELECT idVendedor,\n",
    "         COUNT(DISTINCT idProduto) AS qtdProdutosDistintos,\n",
    "         COUNT(DISTINCT descCategoria) AS qtdCategoriasDistintas,\n",
    "         AVG(nrFotos) AS mediaQtdeFotos,\n",
    "         AVG(vlPesoGramas) AS mediaPesoGramas,\n",
    "         COUNT(DISTINCT CASE WHEN nrFotos > 0 THEN idProduto END) / COUNT(DISTINCT idProduto) AS pctProdutosComFotos,\n",
    "         AVG(nrTamanhoNome) AS mediaTamanhoNomeProduto,\n",
    "         AVG(nrTamanhoDescricao) AS mediaTamanhoDescricaoProduto,\n",
    "         AVG(vlComprimentoCm * vlAlturaCm * vlLarguraCm) AS mediaCubagemProduto,\n",
    "         COUNT(DISTINCT CASE WHEN descCategoria IS NOT NULL THEN idProduto END) / COUNT(DISTINCT idProduto) AS pctProdutosComDescricao\n",
    "\n",
    "  FROM tb_base\n",
    "  GROUP BY idVendedor\n",
    "  ORDER BY pctProdutosComFotos DESC\n",
    ")\n",
    "\n",
    "SELECT '2017-06-01' AS dtRef,\n",
    "       *\n",
    "FROM tb_feat_produto"
   ]
  }
 ],
 "metadata": {
  "application/vnd.databricks.v1+notebook": {
   "computePreferences": null,
   "dashboards": [],
   "environmentMetadata": {
    "base_environment": "",
    "environment_version": "2"
   },
   "language": "sql",
   "notebookMetadata": {
    "pythonIndentUnit": 4
   },
   "notebookName": "fs_produto",
   "widgets": {}
  },
  "language_info": {
   "name": "sql"
  }
 },
 "nbformat": 4,
 "nbformat_minor": 0
}
