{
 "cells": [
  {
   "cell_type": "code",
   "execution_count": 0,
   "metadata": {
    "application/vnd.databricks.v1+cell": {
     "cellMetadata": {
      "byteLimit": 2048000,
      "rowLimit": 10000
     },
     "inputWidgets": {},
     "nuid": "97a54c5d-5e23-43c9-bd45-2cfe23c5435e",
     "showTitle": false,
     "tableResultSettingsMap": {},
     "title": ""
    }
   },
   "outputs": [],
   "source": [
    "\n",
    "-- Lista de features para incluir\n",
    "-- [ ] QtdProdutos (ID) únicos (tamanho portfólio)\n",
    "-- [ ] Número de categorias distintas vendidas pelo seller\n",
    "-- [ ] CategoriaPrincipal (mais vendida)\n",
    "-- [ ] CategoriaPrincipal (maior receita)\n",
    "-- [ ] Share receita nas top 15 categorias\n",
    "-- [ ] Share qtde nas top 15 categorias\n",
    "-- [ ] Média do tamanho do nome do produto\n",
    "-- [ ] Média do tamanho do nome da descrição\n",
    "-- [ ] Média da quantidade de fotos\n",
    "-- [ ] taxa de produtos com fotos (%)\n",
    "-- [ ] Indicador de se existe descrição atrelada ao anúncio (%)\n",
    "-- [ ] Cubagem média dos produtos vendidos (H X L X C)\n",
    "-- [ ] Peso médio dos produtos vendidos\n",
    "\n",
    "-- Criar a tabela base com todos os atributos necessários\n",
    "WITH tb_base AS (\n",
    "  SELECT v.idVendedor, \n",
    "         ip.idPedido, \n",
    "         p.dtPedido,\n",
    "         ip.idProduto,\n",
    "         po.nrTamanhoNome,\n",
    "         po.nrTamanhoDescricao,\n",
    "         po.nrFotos,\n",
    "         po.vlPesoGramas,\n",
    "         po.vlComprimentoCm,\n",
    "         po.vlAlturaCm,\n",
    "         po.vlLarguraCm\n",
    "\n",
    "  FROM silver.olist.vendedor AS v\n",
    "  LEFT JOIN silver.olist.item_pedido AS ip ON v.idVendedor = ip.idVendedor\n",
    "  LEFT JOIN silver.olist.pedido AS p ON ip.idPedido = p.idPedido\n",
    "  LEFT JOIN silver.olist.produto AS po ON ip.idProduto = po.idProduto\n",
    "  WHERE p.dtPedido < '2017-06-01'\n",
    "),\n",
    "\n",
    "-- Incluir os atributos da feature store na tabela\n",
    "tb_feat_produto AS (\n",
    "  SELECT idVendedor\n",
    "  FROM tb_base\n",
    "  GROUP BY idVendedor\n",
    ")\n",
    "\n",
    "SELECT *\n",
    "FROM tb_feat_produto"
   ]
  }
 ],
 "metadata": {
  "application/vnd.databricks.v1+notebook": {
   "computePreferences": null,
   "dashboards": [],
   "environmentMetadata": {
    "base_environment": "",
    "environment_version": "2"
   },
   "language": "sql",
   "notebookMetadata": {
    "pythonIndentUnit": 4
   },
   "notebookName": "fs_produto",
   "widgets": {}
  },
  "language_info": {
   "name": "sql"
  }
 },
 "nbformat": 4,
 "nbformat_minor": 0
}
